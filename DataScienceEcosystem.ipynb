{
  "metadata": {
    "kernelspec": {
      "name": "python",
      "display_name": "Python (Pyodide)",
      "language": "python"
    },
    "language_info": {
      "codemirror_mode": {
        "name": "python",
        "version": 3
      },
      "file_extension": ".py",
      "mimetype": "text/x-python",
      "name": "python",
      "nbconvert_exporter": "python",
      "pygments_lexer": "ipython3",
      "version": "3.8"
    }
  },
  "nbformat_minor": 5,
  "nbformat": 4,
  "cells": [
    {
      "id": "95ad8147-da7d-4ce5-9390-56722729364d",
      "cell_type": "markdown",
      "source": "# Data Science Tools and Ecosystem",
      "metadata": {}
    },
    {
      "id": "64f1ecfb-f167-420b-95fc-c0148ec9b79e",
      "cell_type": "markdown",
      "source": "## Introduction\nIn this notebook, Data Science Tools and Ecosystem are summarized.\n",
      "metadata": {}
    },
    {
      "id": "c72ce0af-8030-4f65-8aca-b3f9611c48fe",
      "cell_type": "markdown",
      "source": "## Data Science Languages\nSome of the popular languages that Data Scientists use are:\n1. Python\n2. R\n3. SQL\n4. Julia",
      "metadata": {}
    },
    {
      "id": "9c89a437-1499-49e8-b887-79595b21aa36",
      "cell_type": "markdown",
      "source": "## Data Science Libraries\nSome of the commonly used libraries used by Data Scientists include:\n1. NumPy\n2. Pandas\n3. Matplotlib\n4. Scikit-learn",
      "metadata": {}
    },
    {
      "id": "107eccea-3f87-4297-915c-257fa872b4d1",
      "cell_type": "markdown",
      "source": "## Data Science Tools\n| Tool           | Purpose                  |\n|----------------|--------------------------|\n| Jupyter        | Interactive coding       |\n| RStudio        | Statistical computing    |\n| Apache Spark   | Distributed computing    |",
      "metadata": {}
    },
    {
      "id": "a10415a0-b282-45f3-8422-4c64d881e31f",
      "cell_type": "markdown",
      "source": "### Below are a few examples of evaluating arithmetic expressions in Python.",
      "metadata": {}
    },
    {
      "id": "984cb2f5-3e7c-46c5-9e4a-a2c7ce744083",
      "cell_type": "code",
      "source": "# This is a simple arithmetic expression to multiply then add integers\nresult = (3 * 4) + 5\nresult",
      "metadata": {
        "trusted": true
      },
      "outputs": [
        {
          "execution_count": 1,
          "output_type": "execute_result",
          "data": {
            "text/plain": "17"
          },
          "metadata": {}
        }
      ],
      "execution_count": 1
    },
    {
      "id": "51609b5b-c018-497c-a7b7-8548b8ec5767",
      "cell_type": "code",
      "source": "# This will convert 200 minutes to hours by dividing by 60\nminutes = 200\nhours = minutes / 60\nhours",
      "metadata": {
        "trusted": true
      },
      "outputs": [
        {
          "execution_count": 2,
          "output_type": "execute_result",
          "data": {
            "text/plain": "3.3333333333333335"
          },
          "metadata": {}
        }
      ],
      "execution_count": 2
    },
    {
      "id": "a7335564-d850-4974-b0a5-4a555164cf12",
      "cell_type": "markdown",
      "source": "## Objectives\n- List popular languages for Data Science\n- List commonly used libraries in Data Science\n- Demonstrate basic arithmetic operations in Python",
      "metadata": {}
    },
    {
      "id": "fa26eb8a-3108-457e-95e1-561c46c3c462",
      "cell_type": "markdown",
      "source": "## Author\nJaylen Bailey",
      "metadata": {}
    },
    {
      "id": "d30c77b3-3eb9-42e7-b199-520d327e9fdf",
      "cell_type": "code",
      "source": "",
      "metadata": {
        "trusted": true
      },
      "outputs": [],
      "execution_count": null
    }
  ]
}